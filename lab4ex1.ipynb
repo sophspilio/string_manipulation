{
  "nbformat": 4,
  "nbformat_minor": 0,
  "metadata": {
    "colab": {
      "name": "lab4ex1.ipynb",
      "provenance": [],
      "collapsed_sections": [],
      "authorship_tag": "ABX9TyMnb3hztZAAAm+DlzUeUHH4",
      "include_colab_link": true
    },
    "kernelspec": {
      "name": "python3",
      "display_name": "Python 3"
    }
  },
  "cells": [
    {
      "cell_type": "markdown",
      "metadata": {
        "id": "view-in-github",
        "colab_type": "text"
      },
      "source": [
        "<a href=\"https://colab.research.google.com/github/IDCE-MSGIS/lab-4-string-manipulation-sophspilio/blob/master/lab4ex1.ipynb\" target=\"_parent\"><img src=\"https://colab.research.google.com/assets/colab-badge.svg\" alt=\"Open In Colab\"/></a>"
      ]
    },
    {
      "cell_type": "code",
      "metadata": {
        "id": "1klUS2Hsn7U-",
        "colab_type": "code",
        "colab": {}
      },
      "source": [
        "#Write a function that capitalizes the first and fourth letters of a name, e.g.\n",
        "\n",
        "#old_macdonald('macdonald') --> MacDonald\n",
        "\n",
        "#Add your code to exercise1.py\n",
        "#Note: there is a method called \"capitalize.\" The syntax for it is 'macdonald'.capitalize() and it returns 'Macdonald'"
      ],
      "execution_count": null,
      "outputs": []
    },
    {
      "cell_type": "code",
      "metadata": {
        "id": "hKM0hAdPoC74",
        "colab_type": "code",
        "colab": {
          "base_uri": "https://localhost:8080/",
          "height": 34
        },
        "outputId": "2712d205-0115-49d5-ca98-6b9297eea5f2"
      },
      "source": [
        "'''\n",
        "Sophie Spiliotopoulos \n",
        "Sept. 18,2020\n",
        "Python 3.6\n",
        "Create a function that captializes first and fourth letters of a name\n",
        "'''\n",
        "word = 'macdonald' #identify word to be used in function\n",
        "def capfirstfourth(word): #define function with one argument\n",
        "  wordCap = word[0].capitalize() + word[1:3] + word[3].capitalize() + word[4:]  #concatenate using indexes and .capitalize() to capitlaize first and fourth\n",
        "  print(wordCap) #print new capitalized word\n",
        "\n",
        "capfirstfourth(word)\n",
        "\n"
      ],
      "execution_count": null,
      "outputs": [
        {
          "output_type": "stream",
          "text": [
            "MacDonald\n"
          ],
          "name": "stdout"
        }
      ]
    }
  ]
}