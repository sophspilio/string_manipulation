{
  "nbformat": 4,
  "nbformat_minor": 0,
  "metadata": {
    "colab": {
      "name": "lab4ex2.ipynb",
      "provenance": [],
      "collapsed_sections": [],
      "authorship_tag": "ABX9TyMLphvmySK8LrPeKBF3THqU",
      "include_colab_link": true
    },
    "kernelspec": {
      "name": "python3",
      "display_name": "Python 3"
    }
  },
  "cells": [
    {
      "cell_type": "markdown",
      "metadata": {
        "id": "view-in-github",
        "colab_type": "text"
      },
      "source": [
        "<a href=\"https://colab.research.google.com/github/IDCE-MSGIS/lab-4-string-manipulation-sophspilio/blob/master/lab4ex2.ipynb\" target=\"_parent\"><img src=\"https://colab.research.google.com/assets/colab-badge.svg\" alt=\"Open In Colab\"/></a>"
      ]
    },
    {
      "cell_type": "markdown",
      "metadata": {
        "id": "q-7xW1A-riCN",
        "colab_type": "text"
      },
      "source": [
        "#Lab 4: Exercise 2\n",
        "I used [this Stack Overflow article](https://stackoverflow.com/questions/37505224/add-a-space-between-each-word-in-the-string ) to help guide my code. \n"
      ]
    },
    {
      "cell_type": "code",
      "metadata": {
        "id": "GE8JBWLyybez",
        "colab_type": "code",
        "colab": {
          "base_uri": "https://localhost:8080/",
          "height": 102
        },
        "outputId": "3c029fe5-5952-4383-85c4-a96aed384130"
      },
      "source": [
        "'''\n",
        "Sophie Spiliotopoulos\n",
        "Sept. 18,2020\n",
        "Python 3.6\n",
        "Using string manipulation to organize and display web scraped National Weather Service forecast data\n",
        "\n",
        "\n",
        "#The multi-line string was scraped from the National Weather Service Website.\n",
        "#Edit this exercise to produce the output below using string manipulation techniques:\n",
        "\n",
        "#Tonight: Clear, Low: 55 F\n",
        "#Thursday: Sunny then Chance Showers, High: 77 F\n",
        "#Friday: Sunny, High: 73 F\n",
        "#Saturday: Mostly Sunny, High: 77 F\n",
        "#Sunday: Mostly Sunny, High: 71 F\n",
        "\n",
        "#Note: Copy the below code in the edit mode to retain the multi-line string formatting. There should be 39 lines of code when pasted in Python IDLE.\n",
        "'''\n",
        "# -*- coding: utf-8 -*-\n",
        "# Scraped multi-line String\n",
        "\n",
        "forecast = ''' \n",
        "\n",
        "Tonight\n",
        "ClearLow: 55 F\n",
        "\n",
        "Thursday\n",
        "Sunny thenChanceShowersHigh: 77 F\n",
        "\n",
        "Friday\n",
        "SunnyHigh: 73 F\n",
        "\n",
        "Saturday\n",
        "Mostly SunnyHigh: 77 F\n",
        "\n",
        "Sunday\n",
        "Mostly SunnyHigh: 71 F\n",
        "'''\n",
        "import re #import regular expressions operations library \n",
        "\n",
        "forecast_list = forecast.split('\\n\\n') #split multi line string into list, splitting at '\\n\\n'\n",
        "del forecast_list[0] #delete empty space in first line \n",
        "for day in forecast_list: #loop through list\n",
        "  i = 0 #counter for indexes\n",
        "  while i < len(forecast_list): \n",
        "    day = day.replace(forecast_list[i], re.sub('([A-Z])', r' \\1', forecast_list[i])) #replace string in list with new string that adds spaces before capitalized words\n",
        "    i = i + 1 # continue index counter to cycle through each string within list\n",
        "  day = day.replace('\\n',':') #replace newlines with colon \n",
        "  day = day.replace('  ', ' ') #replace any double spaces with a single space \n",
        "  day = day.replace('Clear','Clear,') #add comma after 'clear'\n",
        "  day = day.replace('Sunny','Sunny,') #add comma after 'sunny'\n",
        "  day = day.replace('Showers','Showers,') #add comma after 'showers' in line 2 \n",
        "  day = day.replace('F:', 'F') #fix final line, originally there was a : after F\n",
        "  print(day)\n",
        "\n"
      ],
      "execution_count": null,
      "outputs": [
        {
          "output_type": "stream",
          "text": [
            " Tonight: Clear, Low: 55 F\n",
            " Thursday: Sunny, then Chance Showers, High: 77 F\n",
            " Friday: Sunny, High: 73 F\n",
            " Saturday: Mostly Sunny, High: 77 F\n",
            " Sunday: Mostly Sunny, High: 71 F\n"
          ],
          "name": "stdout"
        }
      ]
    }
  ]
}