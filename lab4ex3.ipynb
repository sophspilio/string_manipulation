{
  "nbformat": 4,
  "nbformat_minor": 0,
  "metadata": {
    "colab": {
      "name": "lab4ex3.ipynb",
      "provenance": [],
      "collapsed_sections": [],
      "authorship_tag": "ABX9TyN767pxBfsGAx6hBHhf26z3",
      "include_colab_link": true
    },
    "kernelspec": {
      "name": "python3",
      "display_name": "Python 3"
    }
  },
  "cells": [
    {
      "cell_type": "markdown",
      "metadata": {
        "id": "view-in-github",
        "colab_type": "text"
      },
      "source": [
        "<a href=\"https://colab.research.google.com/github/IDCE-MSGIS/lab-4-string-manipulation-sophspilio/blob/master/lab4ex3.ipynb\" target=\"_parent\"><img src=\"https://colab.research.google.com/assets/colab-badge.svg\" alt=\"Open In Colab\"/></a>"
      ]
    },
    {
      "cell_type": "markdown",
      "metadata": {
        "id": "A_G2cEigg2KK",
        "colab_type": "text"
      },
      "source": [
        "#Lab 4: Exercise 3\n",
        "#### Found help on [this thread ](https://stackoverflow.com/questions/56999390/how-to-extract-longitude-and-latitude-from-a-link)from Stack Overflow\n"
      ]
    },
    {
      "cell_type": "code",
      "metadata": {
        "id": "bsEvzCxzauzZ",
        "colab_type": "code",
        "colab": {
          "base_uri": "https://localhost:8080/",
          "height": 51
        },
        "outputId": "7693f083-4df3-49c9-efd1-5eb383663373"
      },
      "source": [
        "'''\n",
        "Sophie Spiliotopoulos\n",
        "Sept 19, 2020\n",
        "Python 3.6\n",
        "Extracting the lat and long from a url\n",
        "'''\n",
        "\n",
        "# Write code to extract the latitude and longitude from the URL: https://www.google.com/maps/@42.2509428,-71.8249939,17z\n",
        "# Output should be text that reads:\n",
        "\n",
        "# Latitude: 42.2509428\n",
        "# Longitude: -71.8249939\n",
        "\n",
        "import re\n",
        "\n",
        "url = 'https://www.google.com/maps/@42.2509428,-71.8249939,17z' #assign given url a variable and make it a string\n",
        "\n",
        "lat, lon = re.search(r'@(.*?),(.*?),',url).groups() #assign variables lat and lon by searching through the given string, using '@' and  ',' as indicator of where to start \n",
        "print('Latitude:',lat) \n",
        "print('Longitude:',lon)\n",
        "\n"
      ],
      "execution_count": null,
      "outputs": [
        {
          "output_type": "stream",
          "text": [
            "Latitude: 42.2509428\n",
            "Longitude -71.8249939\n"
          ],
          "name": "stdout"
        }
      ]
    }
  ]
}